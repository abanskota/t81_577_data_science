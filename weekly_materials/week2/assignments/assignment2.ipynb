{
 "cells": [
  {
   "cell_type": "markdown",
   "metadata": {},
   "source": [
    "# T81-577: Applied Data Science for Practioners\n",
    "\n",
    " - Instructor: Asim Banskota, School of Engineering and Applied Science, Washington University in St. Louis\n",
    "\n",
    "### Week 2 Assignment: Programming practice assignment\n",
    "\n",
    "### Student Name: Your Name <br>\n",
    "\n",
    "# Assignment Instructions\n",
    "\n",
    "- Your solution should go between the BEGIN SOLUTION and END SOlUTION. \n",
    "\n",
    "- Submit the notebook or html through Canvas.\n",
    "\n",
    "There are in total 19 questions. Each carries one half (0.5) point. Succesful submission of the assignment will earn you a bonus half point :smiley: making it total of 20 points. "
   ]
  },
  {
   "cell_type": "code",
   "execution_count": 3,
   "metadata": {},
   "outputs": [],
   "source": [
    "x = '5'\n",
    "y = 10"
   ]
  },
  {
   "cell_type": "markdown",
   "metadata": {},
   "source": [
    "### Use a built-in function to find the data type of x"
   ]
  },
  {
   "cell_type": "code",
   "execution_count": null,
   "metadata": {},
   "outputs": [],
   "source": [
    "### BEGIN SOLUTION\n",
    "q1  = \n",
    "### END SOLUTION\n",
    "print(q1)"
   ]
  },
  {
   "cell_type": "markdown",
   "metadata": {},
   "source": [
    "### Use a built-in function to check whether y is an integer."
   ]
  },
  {
   "cell_type": "code",
   "execution_count": null,
   "metadata": {},
   "outputs": [],
   "source": [
    "### BEGIN SOLUTION\n",
    "q2  = \n",
    "\n",
    "### END SOLUTION\n",
    "print(q2)"
   ]
  },
  {
   "cell_type": "markdown",
   "metadata": {},
   "source": [
    "### Convert the value of x into integer type"
   ]
  },
  {
   "cell_type": "code",
   "execution_count": null,
   "metadata": {},
   "outputs": [],
   "source": [
    "### BEGIN SOLUTION\n",
    "q3 = \n",
    "\n",
    "### END SOLUTION\n",
    "print(q3)"
   ]
  },
  {
   "cell_type": "markdown",
   "metadata": {},
   "source": [
    "### Raise x to the power of y"
   ]
  },
  {
   "cell_type": "code",
   "execution_count": null,
   "metadata": {},
   "outputs": [],
   "source": [
    "### BEGIN SOLUTION\n",
    "q4 = \n",
    "\n",
    "### END SOLUTION\n",
    "print(q4)"
   ]
  },
  {
   "cell_type": "markdown",
   "metadata": {},
   "source": [
    "### Print a float to tw0 decimal places without rounding"
   ]
  },
  {
   "cell_type": "code",
   "execution_count": null,
   "metadata": {},
   "outputs": [],
   "source": [
    "number = 3.14159\n",
    "#Hint: The answer should be 3.14\n",
    "\n",
    "### BEGIN SOLUTION\n",
    "q5 = '{}'.format(number)\n",
    "### END SOLUTION\n",
    "print(q5)"
   ]
  },
  {
   "cell_type": "markdown",
   "metadata": {},
   "source": [
    "### Change the case of string variable  into uppercase (Change sentence into uppercase)"
   ]
  },
  {
   "cell_type": "code",
   "execution_count": 32,
   "metadata": {},
   "outputs": [
    {
     "name": "stdout",
     "output_type": "stream",
     "text": [
      "THIS IS A FIRST ASSIGNMENT\n"
     ]
    }
   ],
   "source": [
    "sentence = 'This is a first assignment'\n",
    "\n",
    "### BEGIN SOLUTION\n",
    "q6_sentence = \n",
    "\n",
    "### END SOLUTION\n",
    "print(q6_sentence)"
   ]
  },
  {
   "cell_type": "markdown",
   "metadata": {},
   "source": [
    "### Replace the word 'FIRST' by 'SECOND' in q6_sentence with uppercase"
   ]
  },
  {
   "cell_type": "code",
   "execution_count": null,
   "metadata": {},
   "outputs": [],
   "source": [
    "\n",
    "### BEGIN SOLUTION\n",
    "q7_sentence = \n",
    "### END SOLUTION\n",
    "print(q7_sentence)"
   ]
  },
  {
   "cell_type": "markdown",
   "metadata": {},
   "source": [
    "### Split all words inside the q7_sentence into a list of words"
   ]
  },
  {
   "cell_type": "code",
   "execution_count": null,
   "metadata": {},
   "outputs": [],
   "source": [
    "#HINT: Your answer should look like ['THIS' , 'IS', 'A', 'SECOND', 'ASSIGNMENT']\n",
    "### BEGIN SOLUTION\n",
    "q8_sentence = \n",
    "\n",
    "### END SOLUTION\n",
    "print(q8_sentence)"
   ]
  },
  {
   "cell_type": "markdown",
   "metadata": {},
   "source": [
    "### Join the words in the list sentence (q8_sentence) into a single string"
   ]
  },
  {
   "cell_type": "code",
   "execution_count": null,
   "metadata": {},
   "outputs": [],
   "source": [
    "# The cell should print out 'THIS IS A SECOND ASSIGNMENT'\n",
    "\n",
    "### BEGIN SOLUTION\n",
    "# HINT: use join method\n",
    "q9_sentence  = \n",
    "### END SOLUTION\n",
    "\n",
    "print(q9_sentence)"
   ]
  },
  {
   "cell_type": "markdown",
   "metadata": {},
   "source": [
    "### convert a tuple into list"
   ]
  },
  {
   "cell_type": "code",
   "execution_count": null,
   "metadata": {},
   "outputs": [],
   "source": [
    "\n",
    "### BEGIN SOLUTION\n",
    "rank = ('first', 'second', 'third')\n",
    "q10_list_rank = \n",
    "### END SOLUTION\n",
    "print(q10_list_rank)"
   ]
  },
  {
   "cell_type": "markdown",
   "metadata": {},
   "source": [
    "### Append a new value to a list. Append  a string 'fourth' to the list q11_rank."
   ]
  },
  {
   "cell_type": "code",
   "execution_count": 26,
   "metadata": {},
   "outputs": [],
   "source": [
    "q11_rank = ['first', 'second', 'third']\n",
    "\n",
    "### BEGIN SOLUTION\n",
    "\n",
    "# Hint: use append method\n",
    "\n",
    "### END SOLUTION\n",
    "print(q11_rank)"
   ]
  },
  {
   "cell_type": "markdown",
   "metadata": {},
   "source": [
    "### combine two lists into one. Extend the value of q12_rank by values of more_ranks list."
   ]
  },
  {
   "cell_type": "code",
   "execution_count": null,
   "metadata": {},
   "outputs": [],
   "source": [
    "### BEGIN SOLUTION\n",
    "q12_rank = q11_rank\n",
    "more_ranks = ['fifth', 'sixth', 'seventh']\n",
    "\n",
    "# Hint: use extend method\n",
    "\n",
    "### END SOLUTION\n",
    "print(q12_rank)"
   ]
  },
  {
   "cell_type": "markdown",
   "metadata": {},
   "source": [
    "### Faker is a Python package that generates fake data for you.  We are going to generate some random names and addreess using the faker library in this exercise.\n",
    "\n",
    "Install the faker library from your terminal or here using `!pip install faker`\n",
    "\n",
    "Notice that the name and addresses are randomly generated. So every time you run the cellbelow, you will get different names and addresses\n"
   ]
  },
  {
   "cell_type": "code",
   "execution_count": 12,
   "metadata": {},
   "outputs": [
    {
     "name": "stdout",
     "output_type": "stream",
     "text": [
      "Heather Santana\n",
      "498 Michael Points Suite 093\n",
      "Sarahland, LA 61629\n"
     ]
    }
   ],
   "source": [
    "fake = Faker()\n",
    "print (fake.name())\n",
    "print (fake.address())"
   ]
  },
  {
   "cell_type": "markdown",
   "metadata": {},
   "source": [
    "### Create an empty dictionary named person and add 'name' and 'address' keys with their values as empty list"
   ]
  },
  {
   "cell_type": "code",
   "execution_count": null,
   "metadata": {},
   "outputs": [],
   "source": [
    "### BEGIN SOLUTION\n",
    "person = \n",
    "person['name'] =\n",
    "person['address'] = \n",
    "\n",
    "### END SOLUTION\n",
    "q12 = isinstance(person['name'], list) & isinstance(person['address'], list)"
   ]
  },
  {
   "cell_type": "markdown",
   "metadata": {},
   "source": [
    "### Append five random names from fake library to the list values of person['name']. Append five random names from fake library to the list values of person['address']"
   ]
  },
  {
   "cell_type": "code",
   "execution_count": 17,
   "metadata": {},
   "outputs": [],
   "source": [
    "for i in range(5):\n",
    "    ### BEGIN SOLUTION\n",
    "    pass\n",
    "    ### END SOLUTION\n",
    "q13 = len(person['name']), len(person['address'])\n",
    "print(q13)"
   ]
  },
  {
   "cell_type": "markdown",
   "metadata": {},
   "source": [
    "### Write a function that truncates a floating point number to three decimal places."
   ]
  },
  {
   "cell_type": "code",
   "execution_count": 19,
   "metadata": {},
   "outputs": [],
   "source": [
    "\n",
    "# if the input to the function is 3.14159, it should return 3.141\n",
    "\n",
    "### BEGIN SOLUTION\n",
    "\n",
    "def truncate_float(number):\n",
    "    \n",
    "    return \n",
    "\n",
    "q14 = truncate_float(3.14159)\n",
    "### END SOLUTION\n",
    "\n",
    "print(q14)"
   ]
  },
  {
   "cell_type": "markdown",
   "metadata": {},
   "source": [
    "### Write a function that takes a string as an argument and returns the upercase version of the input."
   ]
  },
  {
   "cell_type": "code",
   "execution_count": null,
   "metadata": {},
   "outputs": [],
   "source": [
    "### BEGIN SOLUTION\n",
    "def func_uppercase(x):\n",
    "    \n",
    "    return \n",
    "### END SOlUTION\n",
    "\n",
    "\n",
    "q15 =  'FIRST' == func_uppercase('first')\n",
    "print(q15)"
   ]
  },
  {
   "cell_type": "markdown",
   "metadata": {},
   "source": [
    "### Write a lambda (anonymous) funtion that returns sum of two numbers."
   ]
  },
  {
   "cell_type": "code",
   "execution_count": null,
   "metadata": {},
   "outputs": [],
   "source": [
    "### BEGIN SOLUTION\n",
    "q16 = \n",
    "### END SOLUTION\n",
    "print(q16 (10,20))"
   ]
  },
  {
   "cell_type": "markdown",
   "metadata": {},
   "source": [
    "### Use list comprehension to convert strings in a list into uppercase"
   ]
  },
  {
   "cell_type": "code",
   "execution_count": null,
   "metadata": {},
   "outputs": [],
   "source": [
    "list_lower = [fake.name() for i in range(5)]\n",
    "### BEGIN SOLIUTION\n",
    "list_upper = \n",
    "### END SOLUTION\n",
    "q17 =  list_lower[0].upper() == list_upper[0]\n",
    "print(q17)"
   ]
  },
  {
   "cell_type": "markdown",
   "metadata": {},
   "source": [
    "### Write a map transformation to convert strings in a list to uppercase"
   ]
  },
  {
   "cell_type": "code",
   "execution_count": null,
   "metadata": {},
   "outputs": [],
   "source": [
    "list_lower = [fake.name() for i in range(5)]\n",
    "### BEGIN SOLUTION\n",
    "list_upper = \n",
    "### END SOLUTION\n",
    "\n",
    "q18 =  list_lower[2].upper() == list_upper[2]\n",
    "print(q18) "
   ]
  },
  {
   "cell_type": "markdown",
   "metadata": {},
   "source": [
    "### Filter a list of integers to return only prime numbers"
   ]
  },
  {
   "cell_type": "code",
   "execution_count": null,
   "metadata": {},
   "outputs": [],
   "source": [
    "numbers = list(range(10))\n",
    "# select only the prime numbers in the list numbers \n",
    "\n",
    "### BEGIN SOLUTION\n",
    "prime_numbers = \n",
    "### END SOLUTION\n",
    "\n",
    "q19 = len(prime_numbers)\n",
    "print(q19)"
   ]
  },
  {
   "cell_type": "code",
   "execution_count": null,
   "metadata": {},
   "outputs": [],
   "source": []
  }
 ],
 "metadata": {
  "kernelspec": {
   "display_name": "Python 3",
   "language": "python",
   "name": "python3"
  },
  "language_info": {
   "codemirror_mode": {
    "name": "ipython",
    "version": 3
   },
   "file_extension": ".py",
   "mimetype": "text/x-python",
   "name": "python",
   "nbconvert_exporter": "python",
   "pygments_lexer": "ipython3",
   "version": "3.7.4"
  }
 },
 "nbformat": 4,
 "nbformat_minor": 2
}
