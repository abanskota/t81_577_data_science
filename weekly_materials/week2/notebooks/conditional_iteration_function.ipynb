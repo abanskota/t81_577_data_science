{
 "cells": [
  {
   "cell_type": "markdown",
   "metadata": {},
   "source": [
    "# Conditional statement\n",
    "Conditional statements are used to perform different computations or actions depending on whether a condition evaluates to  the Boolean values True or False. The conditional statements control the structure of a program by directing the order of the execution of the statements.\n",
    "\n",
    "In python, **if** and **if-elif-else** clause are two conditional types. \n",
    "\n",
    "### if Statement\n",
    "The general form of if statement in Python looks like this:\n",
    "\n",
    "```python \n",
    "if (expression):\n",
    "    statement1\n",
    "    statement2\n",
    "    statement3```\n",
    "    \n",
    "If _**expression**_ evaluates to a true value,  then all the _**statements**_  inside the if clause are executed. In python, indentation is used to group statements. The block of statements that are indentated in the same level make a group of statement for the if clause. Indentation is used to group all block statements including conditionals."
   ]
  },
  {
   "cell_type": "code",
   "execution_count": 1,
   "metadata": {},
   "outputs": [
    {
     "name": "stdout",
     "output_type": "stream",
     "text": [
      "duh\n"
     ]
    }
   ],
   "source": [
    "if 3 > 2:\n",
    "    print ('duh')"
   ]
  },
  {
   "cell_type": "code",
   "execution_count": 2,
   "metadata": {},
   "outputs": [
    {
     "name": "stdout",
     "output_type": "stream",
     "text": [
      "Boolean True is always evaluated as true in Python\n"
     ]
    }
   ],
   "source": [
    "if True:\n",
    "    print ('Boolean True is always evaluated as true in Python')"
   ]
  },
  {
   "cell_type": "code",
   "execution_count": 3,
   "metadata": {},
   "outputs": [],
   "source": [
    "if False:\n",
    "    print( \"It prints nothing\")"
   ]
  },
  {
   "cell_type": "markdown",
   "metadata": {},
   "source": [
    "#### The following are always evaluated as False in python. \n",
    "1. Numerical zero values,\n",
    "2. Boolean False,\n",
    "3. Empty strings,\n",
    "4. Empty lists, tuples, and dictionaries.\n",
    "5. None type\n"
   ]
  },
  {
   "cell_type": "code",
   "execution_count": 4,
   "metadata": {},
   "outputs": [
    {
     "name": "stdout",
     "output_type": "stream",
     "text": [
      "Not empty string, and thus was evaluated True\n"
     ]
    }
   ],
   "source": [
    "if 'asim':\n",
    "    print ('Not empty string, and thus was evaluated True')"
   ]
  },
  {
   "cell_type": "code",
   "execution_count": 1,
   "metadata": {},
   "outputs": [],
   "source": [
    "if \"\":\n",
    "    print(\"It won't print\")"
   ]
  },
  {
   "cell_type": "code",
   "execution_count": 5,
   "metadata": {},
   "outputs": [
    {
     "name": "stdout",
     "output_type": "stream",
     "text": [
      "Empty string Evaluates to true , but <not> changed that\n"
     ]
    }
   ],
   "source": [
    "if not \"\":\n",
    "    print(\"Empty string Evaluates to False , but <not> negated that\")"
   ]
  },
  {
   "cell_type": "markdown",
   "metadata": {},
   "source": [
    "### Multiple conditionals\n",
    "\n",
    "If there are more than one conditions, then if-elif-else clause is used to evaluate conditions and execute statements. The general syntax for multiple condition is as follows:\n",
    "\n",
    "```python\n",
    "if condition_1:\n",
    "    statement1\n",
    "elif condition_2:\n",
    "    statement2\n",
    "else:\n",
    "    statement3```\n"
   ]
  },
  {
   "cell_type": "code",
   "execution_count": 6,
   "metadata": {},
   "outputs": [
    {
     "name": "stdout",
     "output_type": "stream",
     "text": [
      "x is negative\n"
     ]
    }
   ],
   "source": [
    "x = -1\n",
    "if x > 5 :\n",
    "    print(' x is greater than 5')\n",
    "elif (x >= 0) & (x <5):\n",
    "    print ('x is less than 5 and greater than zero')\n",
    "else:\n",
    "    print('x is negative')"
   ]
  },
  {
   "cell_type": "markdown",
   "metadata": {},
   "source": [
    "## Loop"
   ]
  },
  {
   "cell_type": "markdown",
   "metadata": {},
   "source": [
    "There are two types of loops in Python, `for` and `while` loop. These loops are used to carry out a block of statements iteratively. \n",
    "\n",
    "### For loop"
   ]
  },
  {
   "cell_type": "markdown",
   "metadata": {},
   "source": [
    "Python `for` loop is different from what the programmers in other languages are used to. The for loop in python iterate over a given sequence. Many python objects like `list`, `dictionary`, `string` are iterables and the sequence of items inside the object can be looped over. Syntax of `for` loop is:\n",
    "```python\n",
    "for item in sequence:\n",
    "    statement```"
   ]
  },
  {
   "cell_type": "code",
   "execution_count": 7,
   "metadata": {},
   "outputs": [
    {
     "name": "stdout",
     "output_type": "stream",
     "text": [
      "1\n",
      "4\n",
      "9\n",
      "16\n",
      "25\n"
     ]
    }
   ],
   "source": [
    "x = [1,2,3,4,5]\n",
    "for item in x:\n",
    "    print(item*item)"
   ]
  },
  {
   "cell_type": "code",
   "execution_count": 8,
   "metadata": {},
   "outputs": [
    {
     "name": "stdout",
     "output_type": "stream",
     "text": [
      "aa\n",
      "ee\n",
      "ii\n",
      "oo\n"
     ]
    }
   ],
   "source": [
    "y = 'aeiou'\n",
    "for item in y:\n",
    "    print (item + item)\n",
    "    if (item == 'o'):\n",
    "        break"
   ]
  },
  {
   "cell_type": "markdown",
   "metadata": {},
   "source": [
    "### While loop"
   ]
  },
  {
   "cell_type": "markdown",
   "metadata": {},
   "source": [
    "While loop iterates until an expression is evaluated to be False.\n",
    "```python\n",
    "while (expression):\n",
    "    statement```"
   ]
  },
  {
   "cell_type": "code",
   "execution_count": 10,
   "metadata": {},
   "outputs": [
    {
     "name": "stdout",
     "output_type": "stream",
     "text": [
      "X = 2\n",
      "X = 3\n",
      "X = 4\n",
      "X = 5\n"
     ]
    }
   ],
   "source": [
    "x = 2\n",
    "while x < 6:\n",
    "    print ('X = {}'.format(x))\n",
    "    x = x+1"
   ]
  },
  {
   "cell_type": "markdown",
   "metadata": {},
   "source": [
    "# Function"
   ]
  },
  {
   "cell_type": "markdown",
   "metadata": {},
   "source": [
    "- Function helps in reusing a certain block of code in different segments of the program in an exact or similar manner. \n",
    "\n",
    "- Function improves readability of the code, makes code less error prone, helps in debugging, and gives code a modular look. \n",
    "\n",
    "Three type of functions in Python:\n",
    "\n",
    "1. Built-in\n",
    "2. User defined \n",
    "3. Lambda \n",
    "\n",
    "### Built-in functions\n",
    "\n",
    "We already encountered many built-in functions such as **print** , **sum** that come with standard python library. \n",
    "\n",
    "### User defined\n",
    "\n",
    "A new named function can be defined in python with the following general syntax.\n",
    "\n",
    "```python\n",
    "def function_name (function_parameters):\n",
    "    statements\n",
    "    return value```\n",
    "    \n",
    "_Variables defined within a function generally have a local scope and can only be accessed inside that function._  "
   ]
  },
  {
   "cell_type": "code",
   "execution_count": 10,
   "metadata": {},
   "outputs": [],
   "source": [
    "def cstm_ops( x, y):\n",
    "    # a function that has multiple returns\n",
    "    global a # should mostly be avoided and only used with caution\n",
    "    a = x +y\n",
    "    m = x*y\n",
    "    d = x/y\n",
    "\n",
    "    return a,m,d\n"
   ]
  },
  {
   "cell_type": "markdown",
   "metadata": {},
   "source": [
    "### Calling a function\n",
    "\n",
    "The block of code within a function is executed ony when the function is called. Function can be called from the main body or inside another function using function name with required arguments.\n",
    "\n"
   ]
  },
  {
   "cell_type": "code",
   "execution_count": 9,
   "metadata": {},
   "outputs": [
    {
     "data": {
      "text/plain": [
       "(5, 6, 0.6666666666666666)"
      ]
     },
     "execution_count": 9,
     "metadata": {},
     "output_type": "execute_result"
    }
   ],
   "source": [
    "cstm_ops(2,3)"
   ]
  },
  {
   "cell_type": "code",
   "execution_count": 15,
   "metadata": {},
   "outputs": [
    {
     "data": {
      "text/plain": [
       "5"
      ]
     },
     "execution_count": 15,
     "metadata": {},
     "output_type": "execute_result"
    }
   ],
   "source": [
    "a"
   ]
  },
  {
   "cell_type": "markdown",
   "metadata": {},
   "source": [
    "## Lambda "
   ]
  },
  {
   "cell_type": "markdown",
   "metadata": {},
   "source": [
    "Lambda function is a small anonymous function, i.e. a function without a name. It can replace throw-away function that is only needed for a short period of time and is created at runtime. Lambda function is mainly used in passing a function as an argument in other functions like filter(), map() and reduce(), which we will discuss [here]().\n",
    "\n",
    "```python\n",
    "lambda arguements: expression\n",
    "```\n"
   ]
  },
  {
   "cell_type": "code",
   "execution_count": 16,
   "metadata": {},
   "outputs": [
    {
     "data": {
      "text/plain": [
       "20"
      ]
     },
     "execution_count": 16,
     "metadata": {},
     "output_type": "execute_result"
    }
   ],
   "source": [
    "y = lambda x: x* 10\n",
    "y(2)"
   ]
  },
  {
   "cell_type": "code",
   "execution_count": 17,
   "metadata": {},
   "outputs": [
    {
     "data": {
      "text/plain": [
       "function"
      ]
     },
     "execution_count": 17,
     "metadata": {},
     "output_type": "execute_result"
    }
   ],
   "source": [
    "type(y)"
   ]
  }
 ],
 "metadata": {
  "kernelspec": {
   "display_name": "Python 3",
   "language": "python",
   "name": "python3"
  },
  "language_info": {
   "codemirror_mode": {
    "name": "ipython",
    "version": 3
   },
   "file_extension": ".py",
   "mimetype": "text/x-python",
   "name": "python",
   "nbconvert_exporter": "python",
   "pygments_lexer": "ipython3",
   "version": "3.7.4"
  }
 },
 "nbformat": 4,
 "nbformat_minor": 2
}
