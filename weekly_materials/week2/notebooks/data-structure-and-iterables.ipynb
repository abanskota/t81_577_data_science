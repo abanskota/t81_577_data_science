{
 "cells": [
  {
   "cell_type": "markdown",
   "metadata": {},
   "source": [
    "## Non-primitive data structures\n",
    "\n",
    "Python has four built-in non-primitive types (data structure), which act as containers for other types.\n",
    "\n",
    "* list - ordered collection\n",
    "* tuple - immutable ordered collection\n",
    "* dictionary - unordered key, value mapping\n",
    "* set - unordered collection of unique values\n",
    "\n",
    "> ordered means the initial order of representation is maintained\n"
   ]
  },
  {
   "cell_type": "code",
   "execution_count": 50,
   "metadata": {},
   "outputs": [],
   "source": [
    "list_ex = [1,2,3]\n",
    "tuple_ex = (1,2,3)\n",
    "dict_ex = {'first':1,'second':2, 'third':3}\n",
    "set_ex = set([3,4,3,2])"
   ]
  },
  {
   "cell_type": "code",
   "execution_count": 85,
   "metadata": {},
   "outputs": [
    {
     "name": "stdout",
     "output_type": "stream",
     "text": [
      "<class 'list'>\n",
      "<class 'tuple'>\n",
      "<class 'dict'>\n",
      "<class 'set'>\n"
     ]
    }
   ],
   "source": [
    "print(type(list_ex))\n",
    "print(type(tuple_ex))\n",
    "print(type(dict_ex))\n",
    "print(type(set_ex))"
   ]
  },
  {
   "cell_type": "markdown",
   "metadata": {},
   "source": [
    "## List"
   ]
  },
  {
   "cell_type": "markdown",
   "metadata": {},
   "source": [
    "- A container that holds a collection or a sequence of items. \n",
    "\n",
    "- A list can be created by putting items inside a square bracket separated by commas. Here are the general syntaxes for list creation."
   ]
  },
  {
   "cell_type": "code",
   "execution_count": 1,
   "metadata": {},
   "outputs": [],
   "source": [
    "first_list = [5,11, 2,3,4,5, 10]\n",
    "second_list = ['adam', 'apple', 'randy', 'candy']\n",
    "first_empty_list = []\n",
    "second_empty_list = list()"
   ]
  },
  {
   "cell_type": "markdown",
   "metadata": {},
   "source": [
    "\n",
    "A list can have any number of elements and of different data types as well as another list as an element. "
   ]
  },
  {
   "cell_type": "code",
   "execution_count": 2,
   "metadata": {},
   "outputs": [],
   "source": [
    "list_example = [1, 'apple', 'in', first_list] \n"
   ]
  },
  {
   "cell_type": "markdown",
   "metadata": {},
   "source": [
    "The items inside the list are indexed by integer numbers. The index can be used to access a specific value or slicing multiple items."
   ]
  },
  {
   "cell_type": "code",
   "execution_count": 3,
   "metadata": {},
   "outputs": [
    {
     "name": "stdout",
     "output_type": "stream",
     "text": [
      "[5, 11, 2, 3, 4, 5, 10]\n",
      "[2, 3]\n"
     ]
    }
   ],
   "source": [
    "print(list_example[-1])\n",
    "print(first_list[2:4])"
   ]
  },
  {
   "cell_type": "markdown",
   "metadata": {},
   "source": [
    "Some useful list **methods**, **built-in functions** and **operations**:"
   ]
  },
  {
   "cell_type": "code",
   "execution_count": 4,
   "metadata": {},
   "outputs": [
    {
     "data": {
      "text/plain": [
       "7"
      ]
     },
     "execution_count": 4,
     "metadata": {},
     "output_type": "execute_result"
    }
   ],
   "source": [
    "# length of a list\n",
    "len(first_list)"
   ]
  },
  {
   "cell_type": "code",
   "execution_count": 5,
   "metadata": {},
   "outputs": [
    {
     "name": "stdout",
     "output_type": "stream",
     "text": [
      "[2, 3, 4, 5, 5, 10, 11]\n"
     ]
    }
   ],
   "source": [
    "first_list.sort()\n",
    "print(first_list)"
   ]
  },
  {
   "cell_type": "code",
   "execution_count": 7,
   "metadata": {},
   "outputs": [
    {
     "data": {
      "text/plain": [
       "[2, 3, 4, 5, 5, 10, 11]"
      ]
     },
     "execution_count": 7,
     "metadata": {},
     "output_type": "execute_result"
    }
   ],
   "source": [
    "sorted(first_list) # sorted is a built-in function for sorting any sequence type object."
   ]
  },
  {
   "cell_type": "code",
   "execution_count": 8,
   "metadata": {},
   "outputs": [
    {
     "data": {
      "text/plain": [
       "[2, 3, 4, 5, 5, 10, 11, 'adam', 'apple', 'randy', 'candy']"
      ]
     },
     "execution_count": 8,
     "metadata": {},
     "output_type": "execute_result"
    }
   ],
   "source": [
    "#add two list\n",
    "first_list + second_list"
   ]
  },
  {
   "cell_type": "code",
   "execution_count": 9,
   "metadata": {},
   "outputs": [
    {
     "data": {
      "text/plain": [
       "True"
      ]
     },
     "execution_count": 9,
     "metadata": {},
     "output_type": "execute_result"
    }
   ],
   "source": [
    "'adam' in second_list"
   ]
  },
  {
   "cell_type": "markdown",
   "metadata": {},
   "source": [
    "A list is a **mutable** type i.e., a list can be altered by adding or removing elements. There are several built-in methods to edit the item in a list.\n",
    "\n",
    "- Append() method adds an element to the end of a list.\n",
    "- Clear() method removes all element of a list\n",
    "- extend() method combine values of a list with another"
   ]
  },
  {
   "cell_type": "code",
   "execution_count": 19,
   "metadata": {},
   "outputs": [
    {
     "name": "stdout",
     "output_type": "stream",
     "text": [
      "[2, 3, 4, 5, 5, 10, 11, 20]\n"
     ]
    }
   ],
   "source": [
    "first_list.append(20)\n",
    "print(first_list)"
   ]
  },
  {
   "cell_type": "code",
   "execution_count": 21,
   "metadata": {},
   "outputs": [
    {
     "name": "stdout",
     "output_type": "stream",
     "text": [
      "[2, 3, 4, 5, 5, 10, 11, 20, 'adam', 'apple', 'randy', 'candy', 'adam', 'apple', 'randy', 'candy']\n"
     ]
    }
   ],
   "source": [
    "first_list.extend(second_list)\n",
    "print(first_list)"
   ]
  },
  {
   "cell_type": "code",
   "execution_count": 64,
   "metadata": {},
   "outputs": [
    {
     "name": "stdout",
     "output_type": "stream",
     "text": [
      "[]\n"
     ]
    }
   ],
   "source": [
    "first_list.clear()\n",
    "print(first_list)"
   ]
  },
  {
   "cell_type": "markdown",
   "metadata": {},
   "source": [
    " Learn about how list and its methods can be used to create other higher order data structure such as stack (first-in-first-out) and queue (first-in-last-out) [here](https://stackabuse.com/stacks-and-queues-in-python)."
   ]
  },
  {
   "cell_type": "markdown",
   "metadata": {},
   "source": [
    "## Tuple\n",
    "\n",
    "- Tuple also holds ordered collection of elements. However, the tuple elements are immutable.\n",
    "\n",
    "- Tuple can be created by calling tuple class with a list of elements or simply by putting comma seperated values inside a bracket"
   ]
  },
  {
   "cell_type": "code",
   "execution_count": 14,
   "metadata": {},
   "outputs": [],
   "source": [
    "first_tuple = tuple([3,3,4,5])\n",
    "second_tuple = (4,5,6)"
   ]
  },
  {
   "cell_type": "markdown",
   "metadata": {},
   "source": [
    "Python has two built-in methods that you can use on tuples.\n",
    "count() method returns the number of items in a tuple.\n"
   ]
  },
  {
   "cell_type": "code",
   "execution_count": 4,
   "metadata": {},
   "outputs": [
    {
     "data": {
      "text/plain": [
       "2"
      ]
     },
     "execution_count": 4,
     "metadata": {},
     "output_type": "execute_result"
    }
   ],
   "source": [
    "first_tuple.count(3)"
   ]
  },
  {
   "cell_type": "markdown",
   "metadata": {},
   "source": [
    "index() method returns the position of a specicific item in a tuple"
   ]
  },
  {
   "cell_type": "code",
   "execution_count": 5,
   "metadata": {},
   "outputs": [
    {
     "data": {
      "text/plain": [
       "1"
      ]
     },
     "execution_count": 5,
     "metadata": {},
     "output_type": "execute_result"
    }
   ],
   "source": [
    "second_tuple.index(5)"
   ]
  },
  {
   "cell_type": "markdown",
   "metadata": {},
   "source": [
    "As with list, several similar operations can be performed on a tuple"
   ]
  },
  {
   "cell_type": "code",
   "execution_count": 16,
   "metadata": {},
   "outputs": [
    {
     "data": {
      "text/plain": [
       "(3, 3, 4, 5, 4, 5, 6)"
      ]
     },
     "execution_count": 16,
     "metadata": {},
     "output_type": "execute_result"
    }
   ],
   "source": [
    "first_tuple"
   ]
  },
  {
   "cell_type": "markdown",
   "metadata": {},
   "source": [
    "Tuples items can also be sliced and indexed as with list"
   ]
  },
  {
   "cell_type": "code",
   "execution_count": 7,
   "metadata": {},
   "outputs": [
    {
     "name": "stdout",
     "output_type": "stream",
     "text": [
      "3\n"
     ]
    }
   ],
   "source": [
    "print(first_tuple[0])"
   ]
  },
  {
   "cell_type": "code",
   "execution_count": 8,
   "metadata": {},
   "outputs": [
    {
     "data": {
      "text/plain": [
       "(3, 3)"
      ]
     },
     "execution_count": 8,
     "metadata": {},
     "output_type": "execute_result"
    }
   ],
   "source": [
    "first_tuple[0:2]"
   ]
  },
  {
   "cell_type": "markdown",
   "metadata": {},
   "source": [
    "Since tuple is immutable,there is not a method available to edit its content. In order to change the value of it, if necessary, first change the tuple to a list; alter the list elements; and convert the list back to tuple"
   ]
  },
  {
   "cell_type": "code",
   "execution_count": 9,
   "metadata": {},
   "outputs": [
    {
     "name": "stdout",
     "output_type": "stream",
     "text": [
      "(3, 3, 4, 5, 100)\n"
     ]
    }
   ],
   "source": [
    "tuple_to_list = list(first_tuple)\n",
    "tuple_to_list.append(100)\n",
    "first_tuple = tuple(tuple_to_list)\n",
    "print(first_tuple)"
   ]
  },
  {
   "cell_type": "markdown",
   "metadata": {},
   "source": [
    "## set "
   ]
  },
  {
   "cell_type": "markdown",
   "metadata": {},
   "source": [
    "Set are the containers for unordered collections of unique items. They are defined using the curly brackets:\n"
   ]
  },
  {
   "cell_type": "code",
   "execution_count": 18,
   "metadata": {},
   "outputs": [],
   "source": [
    "set_ex = {1,2,3,2,3}"
   ]
  },
  {
   "cell_type": "code",
   "execution_count": 19,
   "metadata": {},
   "outputs": [
    {
     "data": {
      "text/plain": [
       "{1, 2, 3}"
      ]
     },
     "execution_count": 19,
     "metadata": {},
     "output_type": "execute_result"
    }
   ],
   "source": [
    "set_ex"
   ]
  },
  {
   "cell_type": "markdown",
   "metadata": {},
   "source": [
    "Accessing an item in a set cannot be done with index as the items are unordered. but set can be queried for specific values."
   ]
  },
  {
   "cell_type": "code",
   "execution_count": 12,
   "metadata": {},
   "outputs": [
    {
     "data": {
      "text/plain": [
       "True"
      ]
     },
     "execution_count": 12,
     "metadata": {},
     "output_type": "execute_result"
    }
   ],
   "source": [
    "3 in set_ex"
   ]
  },
  {
   "cell_type": "markdown",
   "metadata": {},
   "source": [
    "Membership testing as in the previous example is much faster, _O_ (1)  with set than  _O_ n with list, because sets are implemented using hash tables. When testing for membership, all it is need to be done is to look if the object is at the position determined by hash. [source](https://stackoverflow.com/questions/8929284/what-makes-sets-faster-than-lists)"
   ]
  },
  {
   "cell_type": "markdown",
   "metadata": {},
   "source": [
    "Set is also a mutable type like list, so similar methods for manipulaiton of list variable are also avilable for set. "
   ]
  },
  {
   "cell_type": "code",
   "execution_count": 13,
   "metadata": {},
   "outputs": [
    {
     "name": "stdout",
     "output_type": "stream",
     "text": [
      "{1, 2, 3, 6}\n"
     ]
    }
   ],
   "source": [
    "set_ex.add(6)\n",
    "print(set_ex)"
   ]
  },
  {
   "cell_type": "code",
   "execution_count": 14,
   "metadata": {},
   "outputs": [
    {
     "name": "stdout",
     "output_type": "stream",
     "text": [
      "{1, 3, 6}\n"
     ]
    }
   ],
   "source": [
    "set_ex.remove(2)\n",
    "print(set_ex)"
   ]
  },
  {
   "cell_type": "markdown",
   "metadata": {},
   "source": [
    "Python has several built-in methods or operators for familar set operations like the union, intersection, difference\n"
   ]
  },
  {
   "cell_type": "code",
   "execution_count": 15,
   "metadata": {},
   "outputs": [
    {
     "data": {
      "text/plain": [
       "{1, 2}"
      ]
     },
     "execution_count": 15,
     "metadata": {},
     "output_type": "execute_result"
    }
   ],
   "source": [
    "set_1 = {1,2,3,4}\n",
    "set_2 = {3,4}\n",
    "set_1.difference(set_2)"
   ]
  },
  {
   "cell_type": "code",
   "execution_count": 16,
   "metadata": {},
   "outputs": [
    {
     "data": {
      "text/plain": [
       "{1, 2, 3, 4}"
      ]
     },
     "execution_count": 16,
     "metadata": {},
     "output_type": "execute_result"
    }
   ],
   "source": [
    "set_1.union(set_2)"
   ]
  },
  {
   "cell_type": "code",
   "execution_count": 17,
   "metadata": {},
   "outputs": [
    {
     "data": {
      "text/plain": [
       "{3, 4}"
      ]
     },
     "execution_count": 17,
     "metadata": {},
     "output_type": "execute_result"
    }
   ],
   "source": [
    "set_1.intersection(set_2)"
   ]
  },
  {
   "cell_type": "markdown",
   "metadata": {},
   "source": [
    "## Dictionary\n",
    "\n",
    "- Dictionary are the containers for key-valued pair. \n",
    "- keys are unique within a collection and the values can hold any arbitrary value.\n",
    "- Dictionary is normally defined using key-value pairs, separated by commas, enclosed within a pair of curly braces as follows:\n"
   ]
  },
  {
   "cell_type": "code",
   "execution_count": 28,
   "metadata": {},
   "outputs": [],
   "source": [
    "person = {'first_name': 'Mike', 'last_name': 'Bloomberg', 'age': 70, 'candidate': True, 'decription': ['Billionare', 'Mayor', 'republican', 'independent', 'dem']}"
   ]
  },
  {
   "cell_type": "code",
   "execution_count": 29,
   "metadata": {},
   "outputs": [
    {
     "name": "stdout",
     "output_type": "stream",
     "text": [
      "{'first_name': 'Mike', 'last_name': 'Bloomberg', 'age': 70, 'candidate': True, 'decription': ['Billionare', 'Mayor', 'republican', 'independent', 'dem']}\n"
     ]
    }
   ],
   "source": [
    "print(person)"
   ]
  },
  {
   "cell_type": "markdown",
   "metadata": {},
   "source": [
    "An empty dictionary can also be created by using dict constructor, which can then be populated with key-value pairs."
   ]
  },
  {
   "cell_type": "code",
   "execution_count": 30,
   "metadata": {},
   "outputs": [],
   "source": [
    "person = dict()\n",
    "person['first_name'] = 'Mike'\n",
    "person['last_name'] = 'Bloomberg'\n",
    "person['age'] = 70\n",
    "person['candidate'] = True\n",
    "person['description'] = 'Billionare'"
   ]
  },
  {
   "cell_type": "code",
   "execution_count": 32,
   "metadata": {},
   "outputs": [
    {
     "name": "stdout",
     "output_type": "stream",
     "text": [
      "{'first_name': 'Mike', 'last_name': 'Bloomberg', 'age': 70, 'candidate': True, 'description': 'Billionare'}\n"
     ]
    }
   ],
   "source": [
    "print (person)"
   ]
  },
  {
   "cell_type": "markdown",
   "metadata": {},
   "source": [
    "Dictionary value can be retrived by specifying the dictionary key\n"
   ]
  },
  {
   "cell_type": "code",
   "execution_count": 33,
   "metadata": {},
   "outputs": [
    {
     "data": {
      "text/plain": [
       "'Mike'"
      ]
     },
     "execution_count": 33,
     "metadata": {},
     "output_type": "execute_result"
    }
   ],
   "source": [
    "person['first_name']"
   ]
  },
  {
   "cell_type": "markdown",
   "metadata": {},
   "source": [
    "`update` method can be used to add multiple key-values pair at once."
   ]
  },
  {
   "cell_type": "code",
   "execution_count": 34,
   "metadata": {},
   "outputs": [],
   "source": [
    "person.update([('tilte', 'Mayor'),('political_values',['republican', 'independent', 'democrat'] )])"
   ]
  },
  {
   "cell_type": "code",
   "execution_count": 35,
   "metadata": {},
   "outputs": [
    {
     "name": "stdout",
     "output_type": "stream",
     "text": [
      "{'first_name': 'Mike', 'last_name': 'Bloomberg', 'age': 70, 'candidate': True, 'description': 'Billionare', 'tilte': 'Mayor', 'political_values': ['republican', 'independent', 'democrat']}\n"
     ]
    }
   ],
   "source": [
    "print(person)"
   ]
  },
  {
   "cell_type": "markdown",
   "metadata": {},
   "source": [
    "Dictionary is very fast, versatile and useful data structure when it comes to look-up of items. Time taken to retrieve (get) a value for a cetain key doesn't depend upon the size of the dictionary i.e. the time complexity for a dictionary look-up is _O_(1). "
   ]
  },
  {
   "cell_type": "markdown",
   "metadata": {},
   "source": [
    "In addition to basic data structures, Python provides  a number of optimized data structures via `Collection` module. These are also very useful data structures for many data science operations and are frequently used. Checkout [here](https://docs.python.org/3/library/collections.html) for more information.\n",
    "\n",
    "- `frozenset`\n",
    "- `namedtuple`\n",
    "- `deque`"
   ]
  },
  {
   "cell_type": "markdown",
   "metadata": {},
   "source": [
    "## Iterables"
   ]
  },
  {
   "cell_type": "markdown",
   "metadata": {},
   "source": [
    "All non-primitive data structures and string types are iterables.\n",
    "\n",
    "An iterable is a python object capable of returning one item at a time.\n",
    "\n",
    "One can access the item of these iterables one at a time iteratively using for loop for example \n"
   ]
  },
  {
   "cell_type": "code",
   "execution_count": 14,
   "metadata": {},
   "outputs": [
    {
     "name": "stdout",
     "output_type": "stream",
     "text": [
      "2\n",
      "3\n",
      "4\n",
      "5\n",
      "5\n",
      "10\n",
      "11\n"
     ]
    }
   ],
   "source": [
    "for item in first_list:\n",
    "    print(item)"
   ]
  },
  {
   "cell_type": "markdown",
   "metadata": {},
   "source": [
    "A dictionary by itself is an iterable of its keys. Moreover, we can iterate through dictionaries in 3 different ways:\n",
    "    \n",
    "- dict.values() - this returns an iterable of the dictionary's values.\n",
    "- dict.keys() - this returns an iterable of the dictionary's keys.\n",
    "- dict.items() - this returns an iterable of the dictionary's (key,value) pairs."
   ]
  },
  {
   "cell_type": "code",
   "execution_count": 36,
   "metadata": {},
   "outputs": [
    {
     "data": {
      "text/plain": [
       "['first_name',\n",
       " 'last_name',\n",
       " 'age',\n",
       " 'candidate',\n",
       " 'description',\n",
       " 'tilte',\n",
       " 'political_values']"
      ]
     },
     "execution_count": 36,
     "metadata": {},
     "output_type": "execute_result"
    }
   ],
   "source": [
    "[key for key in person]"
   ]
  },
  {
   "cell_type": "code",
   "execution_count": 37,
   "metadata": {},
   "outputs": [
    {
     "name": "stdout",
     "output_type": "stream",
     "text": [
      "first_name\n",
      "last_name\n",
      "age\n",
      "candidate\n",
      "description\n",
      "tilte\n",
      "political_values\n"
     ]
    }
   ],
   "source": [
    "for key in person.keys():\n",
    "    print (key)"
   ]
  },
  {
   "cell_type": "code",
   "execution_count": 38,
   "metadata": {},
   "outputs": [
    {
     "name": "stdout",
     "output_type": "stream",
     "text": [
      "first_name : Mike\n",
      "last_name : Bloomberg\n",
      "age : 70\n",
      "candidate : True\n",
      "description : Billionare\n",
      "tilte : Mayor\n",
      "political_values : ['republican', 'independent', 'democrat']\n"
     ]
    }
   ],
   "source": [
    "for key, val in person.items():\n",
    "    print (key, ':', val)"
   ]
  },
  {
   "cell_type": "markdown",
   "metadata": {},
   "source": [
    "Functions that act on iterables. Visit [Python Like You Mean It](https://www.pythonlikeyoumeanit.com/Module2_EssentialsOfPython/Iterables.html) for more examples."
   ]
  },
  {
   "cell_type": "code",
   "execution_count": 30,
   "metadata": {},
   "outputs": [
    {
     "data": {
      "text/plain": [
       "[1, 2, 3, 4]"
      ]
     },
     "execution_count": 30,
     "metadata": {},
     "output_type": "execute_result"
    }
   ],
   "source": [
    "list([1,2,3,4])"
   ]
  },
  {
   "cell_type": "code",
   "execution_count": 31,
   "metadata": {},
   "outputs": [
    {
     "data": {
      "text/plain": [
       "10"
      ]
     },
     "execution_count": 31,
     "metadata": {},
     "output_type": "execute_result"
    }
   ],
   "source": [
    "sum([1,2,3,4])"
   ]
  },
  {
   "cell_type": "code",
   "execution_count": 32,
   "metadata": {},
   "outputs": [
    {
     "data": {
      "text/plain": [
       "True"
      ]
     },
     "execution_count": 32,
     "metadata": {},
     "output_type": "execute_result"
    }
   ],
   "source": [
    "any([0,1,2,3])"
   ]
  },
  {
   "cell_type": "code",
   "execution_count": 33,
   "metadata": {},
   "outputs": [
    {
     "data": {
      "text/plain": [
       "False"
      ]
     },
     "execution_count": 33,
     "metadata": {},
     "output_type": "execute_result"
    }
   ],
   "source": [
    "all([0,1,2,3])"
   ]
  },
  {
   "cell_type": "markdown",
   "metadata": {},
   "source": [
    "#### Unpacking of iterables "
   ]
  },
  {
   "cell_type": "code",
   "execution_count": 35,
   "metadata": {},
   "outputs": [],
   "source": [
    "a,b,c,d = 1,2,3,4"
   ]
  },
  {
   "cell_type": "code",
   "execution_count": 36,
   "metadata": {},
   "outputs": [
    {
     "name": "stdout",
     "output_type": "stream",
     "text": [
      "1 2 3 4\n"
     ]
    }
   ],
   "source": [
    "print (a,b,c,d)"
   ]
  },
  {
   "cell_type": "markdown",
   "metadata": {},
   "source": [
    "#### Enumerating iterables\n",
    "\n",
    "The built-in enumerate function allows us to iterate over an iterable without needing to keep track of counts of the object."
   ]
  },
  {
   "cell_type": "code",
   "execution_count": 49,
   "metadata": {},
   "outputs": [
    {
     "name": "stdout",
     "output_type": "stream",
     "text": [
      "0 Mike\n",
      "1 Bloomberg\n",
      "2 70\n",
      "3 True\n",
      "4 Billionare\n",
      "5 Mayor\n",
      "6 ['republican', 'independent', 'democrat']\n"
     ]
    }
   ],
   "source": [
    "for  ind, item in enumerate(person.values()):\n",
    "    print (ind,item)"
   ]
  },
  {
   "cell_type": "code",
   "execution_count": null,
   "metadata": {},
   "outputs": [],
   "source": []
  }
 ],
 "metadata": {
  "kernelspec": {
   "display_name": "Python 3",
   "language": "python",
   "name": "python3"
  },
  "language_info": {
   "codemirror_mode": {
    "name": "ipython",
    "version": 3
   },
   "file_extension": ".py",
   "mimetype": "text/x-python",
   "name": "python",
   "nbconvert_exporter": "python",
   "pygments_lexer": "ipython3",
   "version": "3.7.4"
  }
 },
 "nbformat": 4,
 "nbformat_minor": 4
}
