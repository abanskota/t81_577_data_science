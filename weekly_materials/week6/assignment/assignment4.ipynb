{
 "cells": [
  {
   "cell_type": "markdown",
   "metadata": {},
   "source": [
    "###### T81-577: Applied Data Science for Practioners\n",
    "\n",
    " - Instructor: Asim Banskota, School of Engineering and Applied Science, Washington University in St. Louis\n",
    "\n",
    "### Week 6 Assignment: Exercise with Numpy and Pandas**\n",
    "\n",
    "### Student Name: Your Name <br>\n",
    "\n"
   ]
  },
  {
   "cell_type": "code",
   "execution_count": 118,
   "metadata": {},
   "outputs": [],
   "source": [
    "import numpy as np\n",
    "import pandas as pd"
   ]
  },
  {
   "cell_type": "markdown",
   "metadata": {},
   "source": [
    "### q1: Create a numpy array X of shape (5,2) with values drawn randomly from normal distribution (0.5 point)\n"
   ]
  },
  {
   "cell_type": "code",
   "execution_count": null,
   "metadata": {},
   "outputs": [],
   "source": [
    "# q1\n",
    "X = \n",
    "print (X)"
   ]
  },
  {
   "cell_type": "markdown",
   "metadata": {},
   "source": [
    "### q2: Create another numpy array Y of shape (5,2) of all values being equal to 2  (0.5 point)"
   ]
  },
  {
   "cell_type": "code",
   "execution_count": 39,
   "metadata": {},
   "outputs": [
    {
     "name": "stdout",
     "output_type": "stream",
     "text": [
      "(5, 5)\n"
     ]
    }
   ],
   "source": [
    "# q2\n",
    "Y = \n",
    "print(Y)"
   ]
  },
  {
   "cell_type": "markdown",
   "metadata": {},
   "source": [
    "### q3: Vertically stack X array  on top of Y array to create an array Z of shape (10,2) (0.5 point)"
   ]
  },
  {
   "cell_type": "code",
   "execution_count": 3,
   "metadata": {},
   "outputs": [
    {
     "name": "stdout",
     "output_type": "stream",
     "text": [
      "(10, 2)\n"
     ]
    }
   ],
   "source": [
    "#q3\n",
    "\n",
    "Z = \n",
    "print (Z.shape)"
   ]
  },
  {
   "cell_type": "markdown",
   "metadata": {},
   "source": [
    "### q4: Compute the mean and std deviation of Z for each column. The results should be of arrays of shapes (2,) (0.5 point)"
   ]
  },
  {
   "cell_type": "code",
   "execution_count": 14,
   "metadata": {},
   "outputs": [],
   "source": [
    "#q4\n",
    "mean_arr = \n",
    "std_arr = "
   ]
  },
  {
   "cell_type": "markdown",
   "metadata": {},
   "source": [
    "### q5: Assign the first column  of  array Z to var first_col  (0.5 point)"
   ]
  },
  {
   "cell_type": "code",
   "execution_count": 50,
   "metadata": {},
   "outputs": [],
   "source": [
    "#q5\n",
    "first_col = "
   ]
  },
  {
   "cell_type": "markdown",
   "metadata": {},
   "source": [
    "### q6: Compute the dot product between first_col and Z array. Remember the inner dimension should agree (0.5 point)"
   ]
  },
  {
   "cell_type": "code",
   "execution_count": 57,
   "metadata": {},
   "outputs": [],
   "source": [
    "#q6\n",
    "dot_prod = "
   ]
  },
  {
   "cell_type": "markdown",
   "metadata": {},
   "source": [
    "### q7: Write a code to load data from `assignment4_data.csv` file into pandas dataframe using chunksize = 100. Print the top five rows of dataframe (1.5 points). "
   ]
  },
  {
   "cell_type": "code",
   "execution_count": null,
   "metadata": {},
   "outputs": [],
   "source": [
    "#q7\n",
    "CSV_FILE = 't81_577_data_science/weekly_materials/week6/assignment/assignment4_data.csv'\n",
    "df = "
   ]
  },
  {
   "cell_type": "markdown",
   "metadata": {},
   "source": [
    "### q8: Print out the counts of the number of 'NaN' values in each colum (0.5 point)"
   ]
  },
  {
   "cell_type": "code",
   "execution_count": null,
   "metadata": {},
   "outputs": [],
   "source": [
    "#q8\n"
   ]
  },
  {
   "cell_type": "markdown",
   "metadata": {},
   "source": [
    "### q9: Replace the 'nan' value of 'beer_abv' by the mean value of the column (1.5 points)\n"
   ]
  },
  {
   "cell_type": "code",
   "execution_count": 77,
   "metadata": {},
   "outputs": [
    {
     "data": {
      "text/plain": [
       "5.398551474392137"
      ]
     },
     "execution_count": 77,
     "metadata": {},
     "output_type": "execute_result"
    }
   ],
   "source": [
    "#q9\n",
    "\n",
    "# First calculate the mean of the column, then use `isna` or `isnull` method to find\n",
    "# the rows with 'Na' values and use `.loc` to replace values with mean\n",
    "\n"
   ]
  },
  {
   "cell_type": "markdown",
   "metadata": {},
   "source": [
    "### q10: Create a Pandas series 'ds_mean' that holds the mean value of the 'review_overall' column by 'brewery_name' column (1 point)"
   ]
  },
  {
   "cell_type": "code",
   "execution_count": 86,
   "metadata": {},
   "outputs": [],
   "source": [
    "#hint use groupby\n",
    "ds_mean = "
   ]
  },
  {
   "cell_type": "markdown",
   "metadata": {},
   "source": [
    "### q11: Sort and print the ds_mean series values in descending order (0.5)"
   ]
  },
  {
   "cell_type": "code",
   "execution_count": 119,
   "metadata": {},
   "outputs": [],
   "source": [
    "#hint use sort_values method\n",
    "# q11 "
   ]
  },
  {
   "cell_type": "markdown",
   "metadata": {},
   "source": [
    "### q12: convert the `ds_mean` Series into a dataframe and rename the `review_overall` column to `mean_review_overall` in the dataframe ( 1 point)"
   ]
  },
  {
   "cell_type": "code",
   "execution_count": 112,
   "metadata": {},
   "outputs": [],
   "source": [
    "df_mean = # convert to dataframe\n",
    "df_mean = # rename the columns to 'mean_review_overall'"
   ]
  },
  {
   "cell_type": "markdown",
   "metadata": {},
   "source": [
    "### q11: Join ds_mean series back to the original dataframe  (`df`) on `brewery_name` column (1 point)"
   ]
  },
  {
   "cell_type": "code",
   "execution_count": 115,
   "metadata": {},
   "outputs": [],
   "source": [
    "#q13\n",
    "df_merge = "
   ]
  }
 ],
 "metadata": {
  "kernelspec": {
   "display_name": "Python 3",
   "language": "python",
   "name": "python3"
  },
  "language_info": {
   "codemirror_mode": {
    "name": "ipython",
    "version": 3
   },
   "file_extension": ".py",
   "mimetype": "text/x-python",
   "name": "python",
   "nbconvert_exporter": "python",
   "pygments_lexer": "ipython3",
   "version": "3.8.1"
  }
 },
 "nbformat": 4,
 "nbformat_minor": 2
}
